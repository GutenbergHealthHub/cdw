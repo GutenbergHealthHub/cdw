{
 "cells": [
  {
   "cell_type": "code",
   "execution_count": 2,
   "id": "bigger-repair",
   "metadata": {},
   "outputs": [],
   "source": [
    "import pandas as pd\n",
    "import psycopg2 as pg\n",
    "import sqlalchemy as sqa\n",
    "import matplotlib.pyplot as plt\n",
    "from sqlalchemy import create_engine"
   ]
  },
  {
   "cell_type": "code",
   "execution_count": 3,
   "id": "offshore-title",
   "metadata": {},
   "outputs": [],
   "source": [
    "POSTGRES_ADDRESS = 'localhost'\n",
    "POSTGRES_PORT = '5433'\n",
    "POSTGRES_USERNAME = 'clinicuser'\n",
    "POSTGRES_PASSWORD = 'QI~A|iD%@8cE&&y3iAp*'\n",
    "POSTGRES_DBNAME = 'staging'"
   ]
  },
  {
   "cell_type": "code",
   "execution_count": 4,
   "id": "banned-settlement",
   "metadata": {},
   "outputs": [],
   "source": [
    "postgres_str = ('postgresql://{username}:{password}@{ipaddress}:{port}/{dbname}' .format(username=POSTGRES_USERNAME, password=POSTGRES_PASSWORD, ipaddress=POSTGRES_ADDRESS, port=POSTGRES_PORT, dbname=POSTGRES_DBNAME))\n",
    "\n",
    "cnx = create_engine(postgres_str)"
   ]
  },
  {
   "cell_type": "code",
   "execution_count": 8,
   "id": "chinese-terrain",
   "metadata": {},
   "outputs": [],
   "source": [
    "sql_query = \"select * from aktin.aktin_copra;\"\n",
    "aktin_copra = pd.read_sql_query(sql_query,cnx)"
   ]
  },
  {
   "cell_type": "code",
   "execution_count": 9,
   "id": "prerequisite-stupid",
   "metadata": {},
   "outputs": [
    {
     "name": "stdout",
     "output_type": "stream",
     "text": [
      "<class 'pandas.core.frame.DataFrame'>\n",
      "RangeIndex: 756 entries, 0 to 755\n",
      "Data columns (total 29 columns):\n",
      " #   Column                   Non-Null Count  Dtype         \n",
      "---  ------                   --------------  -----         \n",
      " 0   fall_nummer              756 non-null    object        \n",
      " 1   alter_aufnahme           682 non-null    float64       \n",
      " 2   geschlecht               756 non-null    object        \n",
      " 3   plz                      756 non-null    object        \n",
      " 4   zeitpunkt_aufnahme       756 non-null    datetime64[ns]\n",
      " 5   zeitpunkt_ersteinsch     756 non-null    datetime64[ns]\n",
      " 6   zeitpunkt_entlassung     726 non-null    datetime64[ns]\n",
      " 7   cedis_code               756 non-null    object        \n",
      " 8   aufnahmegrund            755 non-null    object        \n",
      " 9   mts_status_farbe         756 non-null    object        \n",
      " 10  ee_system                756 non-null    object        \n",
      " 11  atemfrequenz             756 non-null    float64       \n",
      " 12  systolic_pressure        0 non-null      object        \n",
      " 13  herzfrequenz             756 non-null    float64       \n",
      " 14  temperatur               756 non-null    float64       \n",
      " 15  gcs_scorevalue           743 non-null    float64       \n",
      " 16  gcs_augenint             748 non-null    float64       \n",
      " 17  gcs_lang                 748 non-null    float64       \n",
      " 18  gcs_motorik              748 non-null    float64       \n",
      " 19  mts_praesdiagr           756 non-null    object        \n",
      " 20  mts_symptom              756 non-null    object        \n",
      " 21  schmerzskala             659 non-null    float64       \n",
      " 22  pupille_weite_links      185 non-null    object        \n",
      " 23  pupille_reaktion_links   78 non-null     object        \n",
      " 24  pupille_weite_rechts     188 non-null    object        \n",
      " 25  pupille_reaktion_rechts  75 non-null     object        \n",
      " 26  tetanus                  756 non-null    object        \n",
      " 27  schwanger                756 non-null    object        \n",
      " 28  allergie                 756 non-null    object        \n",
      "dtypes: datetime64[ns](3), float64(9), object(17)\n",
      "memory usage: 171.4+ KB\n"
     ]
    }
   ],
   "source": [
    "aktin_copra.info(max_cols=300, verbose=True)"
   ]
  },
  {
   "cell_type": "code",
   "execution_count": null,
   "id": "chicken-refrigerator",
   "metadata": {},
   "outputs": [],
   "source": []
  }
 ],
 "metadata": {
  "kernelspec": {
   "display_name": "Python 3",
   "language": "python",
   "name": "python3"
  },
  "language_info": {
   "codemirror_mode": {
    "name": "ipython",
    "version": 3
   },
   "file_extension": ".py",
   "mimetype": "text/x-python",
   "name": "python",
   "nbconvert_exporter": "python",
   "pygments_lexer": "ipython3",
   "version": "3.6.9"
  }
 },
 "nbformat": 4,
 "nbformat_minor": 5
}
