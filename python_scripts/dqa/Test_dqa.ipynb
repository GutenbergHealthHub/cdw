{
 "cells": [
  {
   "cell_type": "code",
   "execution_count": 12,
   "id": "corrected-amendment",
   "metadata": {},
   "outputs": [],
   "source": [
    "import pandas as pd\n",
    "import psycopg2 as pg\n",
    "import sqlalchemy as sqa\n",
    "import matplotlib.pyplot as plt\n",
    "from sqlalchemy import create_engine"
   ]
  },
  {
   "cell_type": "code",
   "execution_count": 21,
   "id": "addressed-interference",
   "metadata": {},
   "outputs": [],
   "source": [
    "POSTGRES_ADDRESS = 'localhost'\n",
    "POSTGRES_PORT = '5433'\n",
    "POSTGRES_USERNAME = 'clinicuser'\n",
    "POSTGRES_PASSWORD = 'QI~A|iD%@8cE&&y3iAp*'\n",
    "POSTGRES_DBNAME = 'staging_test'"
   ]
  },
  {
   "cell_type": "code",
   "execution_count": 22,
   "id": "wound-prompt",
   "metadata": {},
   "outputs": [],
   "source": [
    "postgres_str = ('postgresql://{username}:{password}@{ipaddress}:{port}/{dbname}' .format(username=POSTGRES_USERNAME, password=POSTGRES_PASSWORD, ipaddress=POSTGRES_ADDRESS, port=POSTGRES_PORT, dbname=POSTGRES_DBNAME))\n",
    "\n",
    "cnx = create_engine(postgres_str)"
   ]
  },
  {
   "cell_type": "code",
   "execution_count": 25,
   "id": "expressed-google",
   "metadata": {},
   "outputs": [
    {
     "name": "stdout",
     "output_type": "stream",
     "text": [
      "<class 'pandas.core.frame.DataFrame'>\n",
      "RangeIndex: 618465 entries, 0 to 618464\n",
      "Data columns (total 45 columns):\n",
      " #   Column         Non-Null Count   Dtype         \n",
      "---  ------         --------------   -----         \n",
      " 0   einri          618465 non-null  object        \n",
      " 1   falnr          618465 non-null  object        \n",
      " 2   lfdbew         618465 non-null  int64         \n",
      " 3   bewty          618465 non-null  object        \n",
      " 4   bwart          618465 non-null  object        \n",
      " 5   bwidt          618465 non-null  object        \n",
      " 6   bwizt          618465 non-null  object        \n",
      " 7   planb          618465 non-null  bool          \n",
      " 8   statu          618465 non-null  object        \n",
      " 9   bwedt          618465 non-null  object        \n",
      " 10  bwezt          618465 non-null  object        \n",
      " 11  plane          618465 non-null  bool          \n",
      " 12  lfdref         0 non-null       object        \n",
      " 13  notkz          618465 non-null  bool          \n",
      " 14  unfkz          618465 non-null  object        \n",
      " 15  orgfa          618465 non-null  object        \n",
      " 16  orgpf          618465 non-null  object        \n",
      " 17  zimmr          618465 non-null  object        \n",
      " 18  bett           618465 non-null  object        \n",
      " 19  planr          618465 non-null  object        \n",
      " 20  orgau          618465 non-null  object        \n",
      " 21  ezust          618465 non-null  object        \n",
      " 22  todur          618465 non-null  object        \n",
      " 23  erdat          618465 non-null  object        \n",
      " 24  updat          433486 non-null  object        \n",
      " 25  storn          618465 non-null  bool          \n",
      " 26  stdat          40706 non-null   object        \n",
      " 27  bekat          618465 non-null  object        \n",
      " 28  nfgref         0 non-null       object        \n",
      " 29  vgnref         0 non-null       object        \n",
      " 30  stoid          618465 non-null  object        \n",
      " 31  dspty          618465 non-null  object        \n",
      " 32  visty          618465 non-null  object        \n",
      " 33  bwgr1          618465 non-null  object        \n",
      " 34  bwgr2          618465 non-null  object        \n",
      " 35  tpart          618465 non-null  object        \n",
      " 36  unfvs          618465 non-null  bool          \n",
      " 37  insev          618465 non-null  object        \n",
      " 38  opart          618465 non-null  object        \n",
      " 39  class          618465 non-null  object        \n",
      " 40  rfsrc          618465 non-null  object        \n",
      " 41  fachr          618465 non-null  object        \n",
      " 42  unfrt          618465 non-null  object        \n",
      " 43  unfav          618465 non-null  object        \n",
      " 44  retrievaldate  618465 non-null  datetime64[ns]\n",
      "dtypes: bool(5), datetime64[ns](1), int64(1), object(38)\n",
      "memory usage: 191.7+ MB\n",
      "None\n"
     ]
    }
   ],
   "source": [
    "sql_query_nbew = \"select * from kis.nbew;\"\n",
    "nbew = pd.read_sql_query(sql_query_nbew,cnx)\n",
    "print(nbew.info(max_cols=300, verbose=True))"
   ]
  },
  {
   "cell_type": "code",
   "execution_count": 34,
   "id": "rotary-actress",
   "metadata": {},
   "outputs": [
    {
     "name": "stdout",
     "output_type": "stream",
     "text": [
      "<class 'pandas.core.frame.DataFrame'>\n",
      "RangeIndex: 1712034 entries, 0 to 1712033\n",
      "Data columns (total 46 columns):\n",
      " #   Column         Dtype         \n",
      "---  ------         -----         \n",
      " 0   einri          object        \n",
      " 1   falnr          object        \n",
      " 2   lfdnr          int64         \n",
      " 3   lfdbew         int64         \n",
      " 4   dkat1          object        \n",
      " 5   dkey1          object        \n",
      " 6   dkat2          object        \n",
      " 7   dkey2          object        \n",
      " 8   dkat_ref       object        \n",
      " 9   dkey_ref       object        \n",
      " 10  diadt          object        \n",
      " 11  diazt          object        \n",
      " 12  anzop          int64         \n",
      " 13  ewdia          bool          \n",
      " 14  bhdia          bool          \n",
      " 15  afdia          bool          \n",
      " 16  endia          bool          \n",
      " 17  fhdia          bool          \n",
      " 18  khdia          bool          \n",
      " 19  opdia          bool          \n",
      " 20  sperr          bool          \n",
      " 21  diasi          object        \n",
      " 22  erdat          object        \n",
      " 23  updat          object        \n",
      " 24  storn          bool          \n",
      " 25  stdat          object        \n",
      " 26  ardia          bool          \n",
      " 27  podia          bool          \n",
      " 28  tudia          bool          \n",
      " 29  diabz          bool          \n",
      " 30  diapr          object        \n",
      " 31  diagw          object        \n",
      " 32  diazs          object        \n",
      " 33  dialo          object        \n",
      " 34  diafp          object        \n",
      " 35  drg_dia_seqno  int64         \n",
      " 36  drg_category   object        \n",
      " 37  drg_relvant    bool          \n",
      " 38  dtyp1          object        \n",
      " 39  dtyp2          object        \n",
      " 40  dtype_ref      object        \n",
      " 41  dia_link       int64         \n",
      " 42  ccl            int64         \n",
      " 43  dia_valdt      object        \n",
      " 44  dia_pia_som    bool          \n",
      " 45  retrievaldate  datetime64[ns]\n",
      "dtypes: bool(15), datetime64[ns](1), int64(6), object(24)None\n"
     ]
    }
   ],
   "source": [
    "sql_query_ndia = \"select * from kis.ndia;\"\n",
    "ndia = pd.read_sql_query(sql_query_ndia,cnx)\n",
    "print(ndia.info(max_cols=300, verbose=True, memory_usage=False))"
   ]
  },
  {
   "cell_type": "code",
   "execution_count": 36,
   "id": "governing-essex",
   "metadata": {},
   "outputs": [
    {
     "name": "stdout",
     "output_type": "stream",
     "text": [
      "<class 'pandas.core.frame.DataFrame'>\n",
      "RangeIndex: 669684 entries, 0 to 669683\n",
      "Data columns (total 40 columns):\n",
      " #   Column         Non-Null Count   Dtype         \n",
      "---  ------         --------------   -----         \n",
      " 0   einri          669684 non-null  object        \n",
      " 1   falnr          669684 non-null  object        \n",
      " 2   falar          669684 non-null  object        \n",
      " 3   patnr          669684 non-null  object        \n",
      " 4   bekat          669684 non-null  object        \n",
      " 5   abrkz          669684 non-null  object        \n",
      " 6   sichv          669684 non-null  bool          \n",
      " 7   statu          669684 non-null  object        \n",
      " 8   notan          669684 non-null  bool          \n",
      " 9   krzan          669684 non-null  bool          \n",
      " 10  endat          2915 non-null    object        \n",
      " 11  fgtyp          669684 non-null  object        \n",
      " 12  kzkom          669684 non-null  bool          \n",
      " 13  enddt          510758 non-null  object        \n",
      " 14  erdat          669683 non-null  object        \n",
      " 15  updat          593485 non-null  object        \n",
      " 16  storn          669684 non-null  bool          \n",
      " 17  stdat          31006 non-null   object        \n",
      " 18  begdt          325582 non-null  object        \n",
      " 19  fatyp          669684 non-null  object        \n",
      " 20  fachr          669684 non-null  object        \n",
      " 21  endtyp         669684 non-null  object        \n",
      " 22  patw           669684 non-null  bool          \n",
      " 23  patgew         669684 non-null  float64       \n",
      " 24  gwein          669684 non-null  object        \n",
      " 25  patgro         669684 non-null  float64       \n",
      " 26  grein          669684 non-null  object        \n",
      " 27  resp           669684 non-null  int64         \n",
      " 28  delgw          669684 non-null  int64         \n",
      " 29  saps_c         669684 non-null  int64         \n",
      " 30  pim2_c         669684 non-null  int64         \n",
      " 31  crib_c         669684 non-null  int64         \n",
      " 32  nems_c         669684 non-null  int64         \n",
      " 33  saps_imc       669684 non-null  int64         \n",
      " 34  pim2_imc       669684 non-null  int64         \n",
      " 35  crib_imc       669684 non-null  int64         \n",
      " 36  nems_imc       669684 non-null  int64         \n",
      " 37  respi_imc      669684 non-null  int64         \n",
      " 38  readm          669684 non-null  bool          \n",
      " 39  retrievaldate  669684 non-null  datetime64[ns]\n",
      "dtypes: bool(7), datetime64[ns](1), float64(2), int64(11), object(19)\n",
      "memory usage: 173.1+ MB\n",
      "None\n"
     ]
    }
   ],
   "source": [
    "sql_query_nfal = \"select * from kis.nfal;\"\n",
    "nfal = pd.read_sql_query(sql_query_nfal,cnx)\n",
    "print(nfal.info(max_cols=300, verbose=True))"
   ]
  },
  {
   "cell_type": "code",
   "execution_count": 39,
   "id": "fabulous-organic",
   "metadata": {},
   "outputs": [
    {
     "name": "stdout",
     "output_type": "stream",
     "text": [
      "<class 'pandas.core.frame.DataFrame'>\n",
      "RangeIndex: 874967 entries, 0 to 874966\n",
      "Data columns (total 27 columns):\n",
      " #   Column         Non-Null Count   Dtype         \n",
      "---  ------         --------------   -----         \n",
      " 0   einri          874967 non-null  object        \n",
      " 1   falnr          874967 non-null  object        \n",
      " 2   lnric          874967 non-null  object        \n",
      " 3   lfdbew         874967 non-null  int64         \n",
      " 4   icpmk          874967 non-null  object        \n",
      " 5   icpml          874967 non-null  object        \n",
      " 6   icphc          874967 non-null  bool          \n",
      " 7   anzop          874967 non-null  int64         \n",
      " 8   bgdop          696570 non-null  object        \n",
      " 9   bztop          874967 non-null  object        \n",
      " 10  eztop          874967 non-null  object        \n",
      " 11  lslok          874967 non-null  object        \n",
      " 12  opart          874967 non-null  object        \n",
      " 13  updat          874967 non-null  object        \n",
      " 14  storn          874967 non-null  bool          \n",
      " 15  stdat          99552 non-null   object        \n",
      " 16  drg_category   874967 non-null  object        \n",
      " 17  drg_relevant   874967 non-null  bool          \n",
      " 18  orgfa          874967 non-null  object        \n",
      " 19  orgpf          874967 non-null  object        \n",
      " 20  endop          696629 non-null  object        \n",
      " 21  prtyp          874967 non-null  object        \n",
      " 22  quantity       874967 non-null  float64       \n",
      " 23  unit           874967 non-null  object        \n",
      " 24  ccl            874967 non-null  object        \n",
      " 25  oplebspen      874967 non-null  bool          \n",
      " 26  retrievaldate  874967 non-null  datetime64[ns]\n",
      "dtypes: bool(4), datetime64[ns](1), float64(1), int64(2), object(19)\n",
      "memory usage: 156.9+ MB\n",
      "None\n"
     ]
    }
   ],
   "source": [
    "sql_query_nicp = \"select * from kis.nicp;\"\n",
    "nicp = pd.read_sql_query(sql_query_nicp,cnx)\n",
    "print(nicp.info(max_cols=300, verbose=True))"
   ]
  },
  {
   "cell_type": "code",
   "execution_count": null,
   "id": "silver-mining",
   "metadata": {},
   "outputs": [],
   "source": [
    "sql_query_npat = \"select * from kis.pat;\"\n",
    "np = pd.read_sql_query(sql_query_nicp,cnx)\n",
    "print(nicp.info(max_cols=300, verbose=True))"
   ]
  }
 ],
 "metadata": {
  "kernelspec": {
   "display_name": "Python 3",
   "language": "python",
   "name": "python3"
  },
  "language_info": {
   "codemirror_mode": {
    "name": "ipython",
    "version": 3
   },
   "file_extension": ".py",
   "mimetype": "text/x-python",
   "name": "python",
   "nbconvert_exporter": "python",
   "pygments_lexer": "ipython3",
   "version": "3.6.9"
  }
 },
 "nbformat": 4,
 "nbformat_minor": 5
}
